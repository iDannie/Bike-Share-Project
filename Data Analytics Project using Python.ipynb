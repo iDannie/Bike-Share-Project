{
 "cells": [
  {
   "cell_type": "code",
   "execution_count": 1,
   "id": "6a9588de",
   "metadata": {},
   "outputs": [],
   "source": [
    "import pandas as pd\n",
    "import numpy as np\n",
    "import matplotlib.pyplot as plt\n",
    "import seaborn as sns #importing the necessary libraries"
   ]
  },
  {
   "cell_type": "markdown",
   "id": "596dacba",
   "metadata": {},
   "source": [
    "## STEP 1: COLLECT DATA"
   ]
  },
  {
   "cell_type": "code",
   "execution_count": 2,
   "id": "6a944681",
   "metadata": {},
   "outputs": [],
   "source": [
    "#loading the monthly data(in csv format)\n",
    "aug_21 = pd.read_csv(\"C:/Users/Dannie/Desktop/Aggregated Data/202108-divvy-tripdata.csv\")\n",
    "sep_21 = pd.read_csv(\"C:/Users/Dannie/Desktop/Aggregated Data/202109-divvy-tripdata.csv\")\n",
    "oct_21 = pd.read_csv(\"C:/Users/Dannie/Desktop/Aggregated Data/202110-divvy-tripdata.csv\")\n",
    "nov_21 = pd.read_csv(\"C:/Users/Dannie/Desktop/Aggregated Data/202111-divvy-tripdata.csv\")\n",
    "dec_21 = pd.read_csv(\"C:/Users/Dannie/Desktop/Aggregated Data/202112-divvy-tripdata.csv\")\n",
    "jan_22 = pd.read_csv(\"C:/Users/Dannie/Desktop/Aggregated Data/202201-divvy-tripdata.csv\")\n",
    "feb_22 = pd.read_csv(\"C:/Users/Dannie/Desktop/Aggregated Data/202202-divvy-tripdata.csv\")\n",
    "mar_22 = pd.read_csv(\"C:/Users/Dannie/Desktop/Aggregated Data/202203-divvy-tripdata.csv\")\n",
    "apr_22 = pd.read_csv(\"C:/Users/Dannie/Desktop/Aggregated Data/202204-divvy-tripdata.csv\")\n",
    "may_22 = pd.read_csv(\"C:/Users/Dannie/Desktop/Aggregated Data/202205-divvy-tripdata.csv\")\n",
    "jun_22 = pd.read_csv(\"C:/Users/Dannie/Desktop/Aggregated Data/202206-divvy-tripdata.csv\")\n",
    "jul_22 = pd.read_csv(\"C:/Users/Dannie/Desktop/Aggregated Data/202207-divvy-tripdata.csv\")"
   ]
  },
  {
   "cell_type": "markdown",
   "id": "84aec330",
   "metadata": {},
   "source": [
    "## STEP 2: WRANGLE DATA AND COMBINE INTO A SINGLE FILE"
   ]
  },
  {
   "cell_type": "code",
   "execution_count": 3,
   "id": "9a697617",
   "metadata": {},
   "outputs": [],
   "source": [
    "#aggregating the imported monthly data\n",
    "all_trips = pd.concat([aug_21, sep_21, oct_21, nov_21, dec_21, jan_22, feb_22, mar_22, apr_22, may_22, jun_22, jul_22])"
   ]
  },
  {
   "cell_type": "markdown",
   "id": "766f855b",
   "metadata": {},
   "source": [
    "### Inspect the dataframes and look for incongruencies"
   ]
  },
  {
   "cell_type": "code",
   "execution_count": 4,
   "id": "08c90926",
   "metadata": {},
   "outputs": [
    {
     "data": {
      "text/html": [
       "<div>\n",
       "<style scoped>\n",
       "    .dataframe tbody tr th:only-of-type {\n",
       "        vertical-align: middle;\n",
       "    }\n",
       "\n",
       "    .dataframe tbody tr th {\n",
       "        vertical-align: top;\n",
       "    }\n",
       "\n",
       "    .dataframe thead th {\n",
       "        text-align: right;\n",
       "    }\n",
       "</style>\n",
       "<table border=\"1\" class=\"dataframe\">\n",
       "  <thead>\n",
       "    <tr style=\"text-align: right;\">\n",
       "      <th></th>\n",
       "      <th>ride_id</th>\n",
       "      <th>rideable_type</th>\n",
       "      <th>started_at</th>\n",
       "      <th>ended_at</th>\n",
       "      <th>start_station_name</th>\n",
       "      <th>start_station_id</th>\n",
       "      <th>end_station_name</th>\n",
       "      <th>end_station_id</th>\n",
       "      <th>start_lat</th>\n",
       "      <th>start_lng</th>\n",
       "      <th>end_lat</th>\n",
       "      <th>end_lng</th>\n",
       "      <th>member_casual</th>\n",
       "    </tr>\n",
       "  </thead>\n",
       "  <tbody>\n",
       "    <tr>\n",
       "      <th>0</th>\n",
       "      <td>99103BB87CC6C1BB</td>\n",
       "      <td>electric_bike</td>\n",
       "      <td>2021-08-10 17:15:49</td>\n",
       "      <td>2021-08-10 17:22:44</td>\n",
       "      <td>NaN</td>\n",
       "      <td>NaN</td>\n",
       "      <td>NaN</td>\n",
       "      <td>NaN</td>\n",
       "      <td>41.77</td>\n",
       "      <td>-87.68</td>\n",
       "      <td>41.77</td>\n",
       "      <td>-87.68</td>\n",
       "      <td>member</td>\n",
       "    </tr>\n",
       "    <tr>\n",
       "      <th>1</th>\n",
       "      <td>EAFCCCFB0A3FC5A1</td>\n",
       "      <td>electric_bike</td>\n",
       "      <td>2021-08-10 17:23:14</td>\n",
       "      <td>2021-08-10 17:39:24</td>\n",
       "      <td>NaN</td>\n",
       "      <td>NaN</td>\n",
       "      <td>NaN</td>\n",
       "      <td>NaN</td>\n",
       "      <td>41.77</td>\n",
       "      <td>-87.68</td>\n",
       "      <td>41.77</td>\n",
       "      <td>-87.63</td>\n",
       "      <td>member</td>\n",
       "    </tr>\n",
       "    <tr>\n",
       "      <th>2</th>\n",
       "      <td>9EF4F46C57AD234D</td>\n",
       "      <td>electric_bike</td>\n",
       "      <td>2021-08-21 02:34:23</td>\n",
       "      <td>2021-08-21 02:50:36</td>\n",
       "      <td>NaN</td>\n",
       "      <td>NaN</td>\n",
       "      <td>NaN</td>\n",
       "      <td>NaN</td>\n",
       "      <td>41.95</td>\n",
       "      <td>-87.65</td>\n",
       "      <td>41.97</td>\n",
       "      <td>-87.66</td>\n",
       "      <td>member</td>\n",
       "    </tr>\n",
       "    <tr>\n",
       "      <th>3</th>\n",
       "      <td>5834D3208BFAF1DA</td>\n",
       "      <td>electric_bike</td>\n",
       "      <td>2021-08-21 06:52:55</td>\n",
       "      <td>2021-08-21 07:08:13</td>\n",
       "      <td>NaN</td>\n",
       "      <td>NaN</td>\n",
       "      <td>NaN</td>\n",
       "      <td>NaN</td>\n",
       "      <td>41.97</td>\n",
       "      <td>-87.67</td>\n",
       "      <td>41.95</td>\n",
       "      <td>-87.65</td>\n",
       "      <td>member</td>\n",
       "    </tr>\n",
       "    <tr>\n",
       "      <th>4</th>\n",
       "      <td>CD825CB87ED1D096</td>\n",
       "      <td>electric_bike</td>\n",
       "      <td>2021-08-19 11:55:29</td>\n",
       "      <td>2021-08-19 12:04:11</td>\n",
       "      <td>NaN</td>\n",
       "      <td>NaN</td>\n",
       "      <td>NaN</td>\n",
       "      <td>NaN</td>\n",
       "      <td>41.79</td>\n",
       "      <td>-87.60</td>\n",
       "      <td>41.77</td>\n",
       "      <td>-87.62</td>\n",
       "      <td>member</td>\n",
       "    </tr>\n",
       "  </tbody>\n",
       "</table>\n",
       "</div>"
      ],
      "text/plain": [
       "            ride_id  rideable_type           started_at             ended_at  \\\n",
       "0  99103BB87CC6C1BB  electric_bike  2021-08-10 17:15:49  2021-08-10 17:22:44   \n",
       "1  EAFCCCFB0A3FC5A1  electric_bike  2021-08-10 17:23:14  2021-08-10 17:39:24   \n",
       "2  9EF4F46C57AD234D  electric_bike  2021-08-21 02:34:23  2021-08-21 02:50:36   \n",
       "3  5834D3208BFAF1DA  electric_bike  2021-08-21 06:52:55  2021-08-21 07:08:13   \n",
       "4  CD825CB87ED1D096  electric_bike  2021-08-19 11:55:29  2021-08-19 12:04:11   \n",
       "\n",
       "  start_station_name start_station_id end_station_name end_station_id  \\\n",
       "0                NaN              NaN              NaN            NaN   \n",
       "1                NaN              NaN              NaN            NaN   \n",
       "2                NaN              NaN              NaN            NaN   \n",
       "3                NaN              NaN              NaN            NaN   \n",
       "4                NaN              NaN              NaN            NaN   \n",
       "\n",
       "   start_lat  start_lng  end_lat  end_lng member_casual  \n",
       "0      41.77     -87.68    41.77   -87.68        member  \n",
       "1      41.77     -87.68    41.77   -87.63        member  \n",
       "2      41.95     -87.65    41.97   -87.66        member  \n",
       "3      41.97     -87.67    41.95   -87.65        member  \n",
       "4      41.79     -87.60    41.77   -87.62        member  "
      ]
     },
     "execution_count": 4,
     "metadata": {},
     "output_type": "execute_result"
    }
   ],
   "source": [
    "#viewing the first 5 rows of the aggregated data\n",
    "all_trips.head()"
   ]
  },
  {
   "cell_type": "code",
   "execution_count": 5,
   "id": "fb8e734f",
   "metadata": {},
   "outputs": [
    {
     "name": "stdout",
     "output_type": "stream",
     "text": [
      "<class 'pandas.core.frame.DataFrame'>\n",
      "Int64Index: 5901463 entries, 0 to 823487\n",
      "Data columns (total 13 columns):\n",
      " #   Column              Dtype  \n",
      "---  ------              -----  \n",
      " 0   ride_id             object \n",
      " 1   rideable_type       object \n",
      " 2   started_at          object \n",
      " 3   ended_at            object \n",
      " 4   start_station_name  object \n",
      " 5   start_station_id    object \n",
      " 6   end_station_name    object \n",
      " 7   end_station_id      object \n",
      " 8   start_lat           float64\n",
      " 9   start_lng           float64\n",
      " 10  end_lat             float64\n",
      " 11  end_lng             float64\n",
      " 12  member_casual       object \n",
      "dtypes: float64(4), object(9)\n",
      "memory usage: 630.3+ MB\n"
     ]
    }
   ],
   "source": [
    "# inspecting the data: to view the different columns and datatypes\n",
    "all_trips.info()"
   ]
  },
  {
   "cell_type": "code",
   "execution_count": 6,
   "id": "8f262fe4",
   "metadata": {},
   "outputs": [
    {
     "name": "stdout",
     "output_type": "stream",
     "text": [
      "Index(['ride_id', 'rideable_type', 'started_at', 'ended_at',\n",
      "       'start_station_name', 'start_station_id', 'end_station_name',\n",
      "       'end_station_id', 'start_lat', 'start_lng', 'end_lat', 'end_lng',\n",
      "       'member_casual'],\n",
      "      dtype='object')\n"
     ]
    }
   ],
   "source": [
    "# To view column names\n",
    "print(all_trips.columns)"
   ]
  },
  {
   "cell_type": "markdown",
   "id": "e4635115",
   "metadata": {},
   "source": [
    "## STEP 3: CLEAN UP AND ADD DATA TO PREPARE FOR ANALYSIS"
   ]
  },
  {
   "cell_type": "code",
   "execution_count": 7,
   "id": "63f8eb73",
   "metadata": {},
   "outputs": [
    {
     "data": {
      "text/plain": [
       "3572542"
      ]
     },
     "execution_count": 7,
     "metadata": {},
     "output_type": "execute_result"
    }
   ],
   "source": [
    "#checking for null values\n",
    "all_trips.isnull().sum().sum()"
   ]
  },
  {
   "cell_type": "code",
   "execution_count": 8,
   "id": "a080e0c8",
   "metadata": {},
   "outputs": [],
   "source": [
    "# changing the datatype of \"started_at\" column and renaming it\n",
    "all_trips['date'] = pd.to_datetime(all_trips['started_at'])"
   ]
  },
  {
   "cell_type": "code",
   "execution_count": 9,
   "id": "6224c409",
   "metadata": {},
   "outputs": [],
   "source": [
    "# Creating the month column\n",
    "all_trips['month'] = pd.to_datetime(all_trips['date']).dt.to_period('m')"
   ]
  },
  {
   "cell_type": "code",
   "execution_count": 10,
   "id": "b4ecd765",
   "metadata": {},
   "outputs": [],
   "source": [
    "# Creating the year column\n",
    "all_trips['year'] = pd.to_datetime(all_trips['date']).dt.to_period('y')"
   ]
  },
  {
   "cell_type": "code",
   "execution_count": 11,
   "id": "e4b56ccd",
   "metadata": {},
   "outputs": [],
   "source": [
    "# Creating the day column\n",
    "all_trips['day'] = pd.to_datetime(all_trips['date']).dt.to_period('d')"
   ]
  },
  {
   "cell_type": "code",
   "execution_count": 12,
   "id": "ddd9494d",
   "metadata": {},
   "outputs": [],
   "source": [
    "all_trips.rename({\"day\":\"day_of_week\"}, inplace=True, axis=1)"
   ]
  },
  {
   "cell_type": "code",
   "execution_count": 13,
   "id": "a8175cd4",
   "metadata": {},
   "outputs": [],
   "source": [
    "# changing the datatype to a more suitable one\n",
    "all_trips['started_at'] = all_trips['started_at'].astype(\"datetime64[ns]\")\n",
    "all_trips['ended_at'] = all_trips['ended_at'].astype(\"datetime64[ns]\")"
   ]
  },
  {
   "cell_type": "code",
   "execution_count": 14,
   "id": "b0d9ec93",
   "metadata": {},
   "outputs": [],
   "source": [
    "# Creating a \"ride_length\" column to compute the ride duration\n",
    "all_trips['ride_length'] = all_trips['ended_at'] - all_trips['started_at']"
   ]
  },
  {
   "cell_type": "code",
   "execution_count": 15,
   "id": "375b5ae3",
   "metadata": {},
   "outputs": [
    {
     "data": {
      "text/html": [
       "<div>\n",
       "<style scoped>\n",
       "    .dataframe tbody tr th:only-of-type {\n",
       "        vertical-align: middle;\n",
       "    }\n",
       "\n",
       "    .dataframe tbody tr th {\n",
       "        vertical-align: top;\n",
       "    }\n",
       "\n",
       "    .dataframe thead th {\n",
       "        text-align: right;\n",
       "    }\n",
       "</style>\n",
       "<table border=\"1\" class=\"dataframe\">\n",
       "  <thead>\n",
       "    <tr style=\"text-align: right;\">\n",
       "      <th></th>\n",
       "      <th>ride_id</th>\n",
       "      <th>rideable_type</th>\n",
       "      <th>started_at</th>\n",
       "      <th>ended_at</th>\n",
       "      <th>start_station_name</th>\n",
       "      <th>start_station_id</th>\n",
       "      <th>end_station_name</th>\n",
       "      <th>end_station_id</th>\n",
       "      <th>start_lat</th>\n",
       "      <th>start_lng</th>\n",
       "      <th>end_lat</th>\n",
       "      <th>end_lng</th>\n",
       "      <th>member_casual</th>\n",
       "      <th>month</th>\n",
       "      <th>year</th>\n",
       "      <th>day_of_week</th>\n",
       "      <th>ride_length</th>\n",
       "    </tr>\n",
       "  </thead>\n",
       "  <tbody>\n",
       "    <tr>\n",
       "      <th>0</th>\n",
       "      <td>99103BB87CC6C1BB</td>\n",
       "      <td>electric_bike</td>\n",
       "      <td>2021-08-10 17:15:49</td>\n",
       "      <td>2021-08-10 17:22:44</td>\n",
       "      <td>NaN</td>\n",
       "      <td>NaN</td>\n",
       "      <td>NaN</td>\n",
       "      <td>NaN</td>\n",
       "      <td>41.77</td>\n",
       "      <td>-87.68</td>\n",
       "      <td>41.77</td>\n",
       "      <td>-87.68</td>\n",
       "      <td>member</td>\n",
       "      <td>2021-08</td>\n",
       "      <td>2021</td>\n",
       "      <td>2021-08-10</td>\n",
       "      <td>0 days 00:06:55</td>\n",
       "    </tr>\n",
       "    <tr>\n",
       "      <th>1</th>\n",
       "      <td>EAFCCCFB0A3FC5A1</td>\n",
       "      <td>electric_bike</td>\n",
       "      <td>2021-08-10 17:23:14</td>\n",
       "      <td>2021-08-10 17:39:24</td>\n",
       "      <td>NaN</td>\n",
       "      <td>NaN</td>\n",
       "      <td>NaN</td>\n",
       "      <td>NaN</td>\n",
       "      <td>41.77</td>\n",
       "      <td>-87.68</td>\n",
       "      <td>41.77</td>\n",
       "      <td>-87.63</td>\n",
       "      <td>member</td>\n",
       "      <td>2021-08</td>\n",
       "      <td>2021</td>\n",
       "      <td>2021-08-10</td>\n",
       "      <td>0 days 00:16:10</td>\n",
       "    </tr>\n",
       "    <tr>\n",
       "      <th>2</th>\n",
       "      <td>9EF4F46C57AD234D</td>\n",
       "      <td>electric_bike</td>\n",
       "      <td>2021-08-21 02:34:23</td>\n",
       "      <td>2021-08-21 02:50:36</td>\n",
       "      <td>NaN</td>\n",
       "      <td>NaN</td>\n",
       "      <td>NaN</td>\n",
       "      <td>NaN</td>\n",
       "      <td>41.95</td>\n",
       "      <td>-87.65</td>\n",
       "      <td>41.97</td>\n",
       "      <td>-87.66</td>\n",
       "      <td>member</td>\n",
       "      <td>2021-08</td>\n",
       "      <td>2021</td>\n",
       "      <td>2021-08-21</td>\n",
       "      <td>0 days 00:16:13</td>\n",
       "    </tr>\n",
       "    <tr>\n",
       "      <th>3</th>\n",
       "      <td>5834D3208BFAF1DA</td>\n",
       "      <td>electric_bike</td>\n",
       "      <td>2021-08-21 06:52:55</td>\n",
       "      <td>2021-08-21 07:08:13</td>\n",
       "      <td>NaN</td>\n",
       "      <td>NaN</td>\n",
       "      <td>NaN</td>\n",
       "      <td>NaN</td>\n",
       "      <td>41.97</td>\n",
       "      <td>-87.67</td>\n",
       "      <td>41.95</td>\n",
       "      <td>-87.65</td>\n",
       "      <td>member</td>\n",
       "      <td>2021-08</td>\n",
       "      <td>2021</td>\n",
       "      <td>2021-08-21</td>\n",
       "      <td>0 days 00:15:18</td>\n",
       "    </tr>\n",
       "    <tr>\n",
       "      <th>4</th>\n",
       "      <td>CD825CB87ED1D096</td>\n",
       "      <td>electric_bike</td>\n",
       "      <td>2021-08-19 11:55:29</td>\n",
       "      <td>2021-08-19 12:04:11</td>\n",
       "      <td>NaN</td>\n",
       "      <td>NaN</td>\n",
       "      <td>NaN</td>\n",
       "      <td>NaN</td>\n",
       "      <td>41.79</td>\n",
       "      <td>-87.60</td>\n",
       "      <td>41.77</td>\n",
       "      <td>-87.62</td>\n",
       "      <td>member</td>\n",
       "      <td>2021-08</td>\n",
       "      <td>2021</td>\n",
       "      <td>2021-08-19</td>\n",
       "      <td>0 days 00:08:42</td>\n",
       "    </tr>\n",
       "    <tr>\n",
       "      <th>...</th>\n",
       "      <td>...</td>\n",
       "      <td>...</td>\n",
       "      <td>...</td>\n",
       "      <td>...</td>\n",
       "      <td>...</td>\n",
       "      <td>...</td>\n",
       "      <td>...</td>\n",
       "      <td>...</td>\n",
       "      <td>...</td>\n",
       "      <td>...</td>\n",
       "      <td>...</td>\n",
       "      <td>...</td>\n",
       "      <td>...</td>\n",
       "      <td>...</td>\n",
       "      <td>...</td>\n",
       "      <td>...</td>\n",
       "      <td>...</td>\n",
       "    </tr>\n",
       "    <tr>\n",
       "      <th>823483</th>\n",
       "      <td>605787F70B3B9FD3</td>\n",
       "      <td>electric_bike</td>\n",
       "      <td>2022-07-09 08:32:15</td>\n",
       "      <td>2022-07-09 08:56:10</td>\n",
       "      <td>NaN</td>\n",
       "      <td>NaN</td>\n",
       "      <td>NaN</td>\n",
       "      <td>NaN</td>\n",
       "      <td>41.74</td>\n",
       "      <td>-87.68</td>\n",
       "      <td>41.75</td>\n",
       "      <td>-87.68</td>\n",
       "      <td>member</td>\n",
       "      <td>2022-07</td>\n",
       "      <td>2022</td>\n",
       "      <td>2022-07-09</td>\n",
       "      <td>0 days 00:23:55</td>\n",
       "    </tr>\n",
       "    <tr>\n",
       "      <th>823484</th>\n",
       "      <td>F0EECBEE637DF028</td>\n",
       "      <td>electric_bike</td>\n",
       "      <td>2022-07-17 13:27:57</td>\n",
       "      <td>2022-07-17 13:33:09</td>\n",
       "      <td>NaN</td>\n",
       "      <td>NaN</td>\n",
       "      <td>NaN</td>\n",
       "      <td>NaN</td>\n",
       "      <td>41.87</td>\n",
       "      <td>-87.66</td>\n",
       "      <td>41.87</td>\n",
       "      <td>-87.68</td>\n",
       "      <td>member</td>\n",
       "      <td>2022-07</td>\n",
       "      <td>2022</td>\n",
       "      <td>2022-07-17</td>\n",
       "      <td>0 days 00:05:12</td>\n",
       "    </tr>\n",
       "    <tr>\n",
       "      <th>823485</th>\n",
       "      <td>B8B091DC72DDAB9D</td>\n",
       "      <td>electric_bike</td>\n",
       "      <td>2022-07-17 14:51:37</td>\n",
       "      <td>2022-07-17 14:57:01</td>\n",
       "      <td>NaN</td>\n",
       "      <td>NaN</td>\n",
       "      <td>NaN</td>\n",
       "      <td>NaN</td>\n",
       "      <td>41.95</td>\n",
       "      <td>-87.64</td>\n",
       "      <td>41.95</td>\n",
       "      <td>-87.65</td>\n",
       "      <td>member</td>\n",
       "      <td>2022-07</td>\n",
       "      <td>2022</td>\n",
       "      <td>2022-07-17</td>\n",
       "      <td>0 days 00:05:24</td>\n",
       "    </tr>\n",
       "    <tr>\n",
       "      <th>823486</th>\n",
       "      <td>B4D3FFCC1F3AF5EC</td>\n",
       "      <td>electric_bike</td>\n",
       "      <td>2022-07-28 13:41:50</td>\n",
       "      <td>2022-07-28 13:47:17</td>\n",
       "      <td>NaN</td>\n",
       "      <td>NaN</td>\n",
       "      <td>NaN</td>\n",
       "      <td>NaN</td>\n",
       "      <td>41.88</td>\n",
       "      <td>-87.63</td>\n",
       "      <td>41.87</td>\n",
       "      <td>-87.63</td>\n",
       "      <td>member</td>\n",
       "      <td>2022-07</td>\n",
       "      <td>2022</td>\n",
       "      <td>2022-07-28</td>\n",
       "      <td>0 days 00:05:27</td>\n",
       "    </tr>\n",
       "    <tr>\n",
       "      <th>823487</th>\n",
       "      <td>AA9217C8DA3BAC0B</td>\n",
       "      <td>electric_bike</td>\n",
       "      <td>2022-07-29 13:05:20</td>\n",
       "      <td>2022-07-29 13:10:40</td>\n",
       "      <td>NaN</td>\n",
       "      <td>NaN</td>\n",
       "      <td>NaN</td>\n",
       "      <td>NaN</td>\n",
       "      <td>41.90</td>\n",
       "      <td>-87.66</td>\n",
       "      <td>41.90</td>\n",
       "      <td>-87.67</td>\n",
       "      <td>member</td>\n",
       "      <td>2022-07</td>\n",
       "      <td>2022</td>\n",
       "      <td>2022-07-29</td>\n",
       "      <td>0 days 00:05:20</td>\n",
       "    </tr>\n",
       "  </tbody>\n",
       "</table>\n",
       "<p>5901463 rows × 17 columns</p>\n",
       "</div>"
      ],
      "text/plain": [
       "                 ride_id  rideable_type          started_at  \\\n",
       "0       99103BB87CC6C1BB  electric_bike 2021-08-10 17:15:49   \n",
       "1       EAFCCCFB0A3FC5A1  electric_bike 2021-08-10 17:23:14   \n",
       "2       9EF4F46C57AD234D  electric_bike 2021-08-21 02:34:23   \n",
       "3       5834D3208BFAF1DA  electric_bike 2021-08-21 06:52:55   \n",
       "4       CD825CB87ED1D096  electric_bike 2021-08-19 11:55:29   \n",
       "...                  ...            ...                 ...   \n",
       "823483  605787F70B3B9FD3  electric_bike 2022-07-09 08:32:15   \n",
       "823484  F0EECBEE637DF028  electric_bike 2022-07-17 13:27:57   \n",
       "823485  B8B091DC72DDAB9D  electric_bike 2022-07-17 14:51:37   \n",
       "823486  B4D3FFCC1F3AF5EC  electric_bike 2022-07-28 13:41:50   \n",
       "823487  AA9217C8DA3BAC0B  electric_bike 2022-07-29 13:05:20   \n",
       "\n",
       "                  ended_at start_station_name start_station_id  \\\n",
       "0      2021-08-10 17:22:44                NaN              NaN   \n",
       "1      2021-08-10 17:39:24                NaN              NaN   \n",
       "2      2021-08-21 02:50:36                NaN              NaN   \n",
       "3      2021-08-21 07:08:13                NaN              NaN   \n",
       "4      2021-08-19 12:04:11                NaN              NaN   \n",
       "...                    ...                ...              ...   \n",
       "823483 2022-07-09 08:56:10                NaN              NaN   \n",
       "823484 2022-07-17 13:33:09                NaN              NaN   \n",
       "823485 2022-07-17 14:57:01                NaN              NaN   \n",
       "823486 2022-07-28 13:47:17                NaN              NaN   \n",
       "823487 2022-07-29 13:10:40                NaN              NaN   \n",
       "\n",
       "       end_station_name end_station_id  start_lat  start_lng  end_lat  \\\n",
       "0                   NaN            NaN      41.77     -87.68    41.77   \n",
       "1                   NaN            NaN      41.77     -87.68    41.77   \n",
       "2                   NaN            NaN      41.95     -87.65    41.97   \n",
       "3                   NaN            NaN      41.97     -87.67    41.95   \n",
       "4                   NaN            NaN      41.79     -87.60    41.77   \n",
       "...                 ...            ...        ...        ...      ...   \n",
       "823483              NaN            NaN      41.74     -87.68    41.75   \n",
       "823484              NaN            NaN      41.87     -87.66    41.87   \n",
       "823485              NaN            NaN      41.95     -87.64    41.95   \n",
       "823486              NaN            NaN      41.88     -87.63    41.87   \n",
       "823487              NaN            NaN      41.90     -87.66    41.90   \n",
       "\n",
       "        end_lng member_casual    month  year day_of_week     ride_length  \n",
       "0        -87.68        member  2021-08  2021  2021-08-10 0 days 00:06:55  \n",
       "1        -87.63        member  2021-08  2021  2021-08-10 0 days 00:16:10  \n",
       "2        -87.66        member  2021-08  2021  2021-08-21 0 days 00:16:13  \n",
       "3        -87.65        member  2021-08  2021  2021-08-21 0 days 00:15:18  \n",
       "4        -87.62        member  2021-08  2021  2021-08-19 0 days 00:08:42  \n",
       "...         ...           ...      ...   ...         ...             ...  \n",
       "823483   -87.68        member  2022-07  2022  2022-07-09 0 days 00:23:55  \n",
       "823484   -87.68        member  2022-07  2022  2022-07-17 0 days 00:05:12  \n",
       "823485   -87.65        member  2022-07  2022  2022-07-17 0 days 00:05:24  \n",
       "823486   -87.63        member  2022-07  2022  2022-07-28 0 days 00:05:27  \n",
       "823487   -87.67        member  2022-07  2022  2022-07-29 0 days 00:05:20  \n",
       "\n",
       "[5901463 rows x 17 columns]"
      ]
     },
     "execution_count": 15,
     "metadata": {},
     "output_type": "execute_result"
    }
   ],
   "source": [
    "# Dropping the date column\n",
    "all_trips.drop('date', axis=1)"
   ]
  },
  {
   "cell_type": "code",
   "execution_count": 16,
   "id": "f072d23b",
   "metadata": {},
   "outputs": [],
   "source": [
    "# Converting timedelta to float\n",
    "all_trips['ride_length'] = all_trips['ride_length']/np.timedelta64(1, 'D')"
   ]
  },
  {
   "cell_type": "code",
   "execution_count": 17,
   "id": "67eb902c",
   "metadata": {},
   "outputs": [
    {
     "data": {
      "text/plain": [
       "dtype('float64')"
      ]
     },
     "execution_count": 17,
     "metadata": {},
     "output_type": "execute_result"
    }
   ],
   "source": [
    "all_trips['ride_length'].dtype"
   ]
  },
  {
   "cell_type": "code",
   "execution_count": 19,
   "id": "5080c559",
   "metadata": {},
   "outputs": [
    {
     "data": {
      "text/plain": [
       "149"
      ]
     },
     "execution_count": 19,
     "metadata": {},
     "output_type": "execute_result"
    }
   ],
   "source": [
    "np.count_nonzero(np.where(all_trips['ride_length'] < 0))"
   ]
  },
  {
   "cell_type": "code",
   "execution_count": 23,
   "id": "81cfed70",
   "metadata": {},
   "outputs": [],
   "source": [
    "all_trips['ride_length'] = all_trips['ride_length'] >= 0"
   ]
  },
  {
   "cell_type": "code",
   "execution_count": 25,
   "id": "cfd88ffd",
   "metadata": {},
   "outputs": [
    {
     "data": {
      "text/plain": [
       "0"
      ]
     },
     "execution_count": 25,
     "metadata": {},
     "output_type": "execute_result"
    }
   ],
   "source": [
    "np.count_nonzero(np.where(all_trips['ride_length'] < 0))"
   ]
  },
  {
   "cell_type": "code",
   "execution_count": 26,
   "id": "aad8b4aa",
   "metadata": {},
   "outputs": [
    {
     "data": {
      "text/html": [
       "<div>\n",
       "<style scoped>\n",
       "    .dataframe tbody tr th:only-of-type {\n",
       "        vertical-align: middle;\n",
       "    }\n",
       "\n",
       "    .dataframe tbody tr th {\n",
       "        vertical-align: top;\n",
       "    }\n",
       "\n",
       "    .dataframe thead th {\n",
       "        text-align: right;\n",
       "    }\n",
       "</style>\n",
       "<table border=\"1\" class=\"dataframe\">\n",
       "  <thead>\n",
       "    <tr style=\"text-align: right;\">\n",
       "      <th></th>\n",
       "      <th>ride_id</th>\n",
       "      <th>rideable_type</th>\n",
       "      <th>started_at</th>\n",
       "      <th>ended_at</th>\n",
       "      <th>start_station_name</th>\n",
       "      <th>start_station_id</th>\n",
       "      <th>end_station_name</th>\n",
       "      <th>end_station_id</th>\n",
       "      <th>start_lat</th>\n",
       "      <th>start_lng</th>\n",
       "      <th>end_lat</th>\n",
       "      <th>end_lng</th>\n",
       "      <th>member_casual</th>\n",
       "      <th>date</th>\n",
       "      <th>month</th>\n",
       "      <th>year</th>\n",
       "      <th>day_of_week</th>\n",
       "      <th>ride_length</th>\n",
       "    </tr>\n",
       "  </thead>\n",
       "  <tbody>\n",
       "    <tr>\n",
       "      <th>0</th>\n",
       "      <td>99103BB87CC6C1BB</td>\n",
       "      <td>electric_bike</td>\n",
       "      <td>2021-08-10 17:15:49</td>\n",
       "      <td>2021-08-10 17:22:44</td>\n",
       "      <td>NaN</td>\n",
       "      <td>NaN</td>\n",
       "      <td>NaN</td>\n",
       "      <td>NaN</td>\n",
       "      <td>41.77</td>\n",
       "      <td>-87.68</td>\n",
       "      <td>41.77</td>\n",
       "      <td>-87.68</td>\n",
       "      <td>member</td>\n",
       "      <td>2021-08-10 17:15:49</td>\n",
       "      <td>2021-08</td>\n",
       "      <td>2021</td>\n",
       "      <td>2021-08-10</td>\n",
       "      <td>True</td>\n",
       "    </tr>\n",
       "    <tr>\n",
       "      <th>1</th>\n",
       "      <td>EAFCCCFB0A3FC5A1</td>\n",
       "      <td>electric_bike</td>\n",
       "      <td>2021-08-10 17:23:14</td>\n",
       "      <td>2021-08-10 17:39:24</td>\n",
       "      <td>NaN</td>\n",
       "      <td>NaN</td>\n",
       "      <td>NaN</td>\n",
       "      <td>NaN</td>\n",
       "      <td>41.77</td>\n",
       "      <td>-87.68</td>\n",
       "      <td>41.77</td>\n",
       "      <td>-87.63</td>\n",
       "      <td>member</td>\n",
       "      <td>2021-08-10 17:23:14</td>\n",
       "      <td>2021-08</td>\n",
       "      <td>2021</td>\n",
       "      <td>2021-08-10</td>\n",
       "      <td>True</td>\n",
       "    </tr>\n",
       "    <tr>\n",
       "      <th>2</th>\n",
       "      <td>9EF4F46C57AD234D</td>\n",
       "      <td>electric_bike</td>\n",
       "      <td>2021-08-21 02:34:23</td>\n",
       "      <td>2021-08-21 02:50:36</td>\n",
       "      <td>NaN</td>\n",
       "      <td>NaN</td>\n",
       "      <td>NaN</td>\n",
       "      <td>NaN</td>\n",
       "      <td>41.95</td>\n",
       "      <td>-87.65</td>\n",
       "      <td>41.97</td>\n",
       "      <td>-87.66</td>\n",
       "      <td>member</td>\n",
       "      <td>2021-08-21 02:34:23</td>\n",
       "      <td>2021-08</td>\n",
       "      <td>2021</td>\n",
       "      <td>2021-08-21</td>\n",
       "      <td>True</td>\n",
       "    </tr>\n",
       "    <tr>\n",
       "      <th>3</th>\n",
       "      <td>5834D3208BFAF1DA</td>\n",
       "      <td>electric_bike</td>\n",
       "      <td>2021-08-21 06:52:55</td>\n",
       "      <td>2021-08-21 07:08:13</td>\n",
       "      <td>NaN</td>\n",
       "      <td>NaN</td>\n",
       "      <td>NaN</td>\n",
       "      <td>NaN</td>\n",
       "      <td>41.97</td>\n",
       "      <td>-87.67</td>\n",
       "      <td>41.95</td>\n",
       "      <td>-87.65</td>\n",
       "      <td>member</td>\n",
       "      <td>2021-08-21 06:52:55</td>\n",
       "      <td>2021-08</td>\n",
       "      <td>2021</td>\n",
       "      <td>2021-08-21</td>\n",
       "      <td>True</td>\n",
       "    </tr>\n",
       "    <tr>\n",
       "      <th>4</th>\n",
       "      <td>CD825CB87ED1D096</td>\n",
       "      <td>electric_bike</td>\n",
       "      <td>2021-08-19 11:55:29</td>\n",
       "      <td>2021-08-19 12:04:11</td>\n",
       "      <td>NaN</td>\n",
       "      <td>NaN</td>\n",
       "      <td>NaN</td>\n",
       "      <td>NaN</td>\n",
       "      <td>41.79</td>\n",
       "      <td>-87.60</td>\n",
       "      <td>41.77</td>\n",
       "      <td>-87.62</td>\n",
       "      <td>member</td>\n",
       "      <td>2021-08-19 11:55:29</td>\n",
       "      <td>2021-08</td>\n",
       "      <td>2021</td>\n",
       "      <td>2021-08-19</td>\n",
       "      <td>True</td>\n",
       "    </tr>\n",
       "  </tbody>\n",
       "</table>\n",
       "</div>"
      ],
      "text/plain": [
       "            ride_id  rideable_type          started_at            ended_at  \\\n",
       "0  99103BB87CC6C1BB  electric_bike 2021-08-10 17:15:49 2021-08-10 17:22:44   \n",
       "1  EAFCCCFB0A3FC5A1  electric_bike 2021-08-10 17:23:14 2021-08-10 17:39:24   \n",
       "2  9EF4F46C57AD234D  electric_bike 2021-08-21 02:34:23 2021-08-21 02:50:36   \n",
       "3  5834D3208BFAF1DA  electric_bike 2021-08-21 06:52:55 2021-08-21 07:08:13   \n",
       "4  CD825CB87ED1D096  electric_bike 2021-08-19 11:55:29 2021-08-19 12:04:11   \n",
       "\n",
       "  start_station_name start_station_id end_station_name end_station_id  \\\n",
       "0                NaN              NaN              NaN            NaN   \n",
       "1                NaN              NaN              NaN            NaN   \n",
       "2                NaN              NaN              NaN            NaN   \n",
       "3                NaN              NaN              NaN            NaN   \n",
       "4                NaN              NaN              NaN            NaN   \n",
       "\n",
       "   start_lat  start_lng  end_lat  end_lng member_casual                date  \\\n",
       "0      41.77     -87.68    41.77   -87.68        member 2021-08-10 17:15:49   \n",
       "1      41.77     -87.68    41.77   -87.63        member 2021-08-10 17:23:14   \n",
       "2      41.95     -87.65    41.97   -87.66        member 2021-08-21 02:34:23   \n",
       "3      41.97     -87.67    41.95   -87.65        member 2021-08-21 06:52:55   \n",
       "4      41.79     -87.60    41.77   -87.62        member 2021-08-19 11:55:29   \n",
       "\n",
       "     month  year day_of_week  ride_length  \n",
       "0  2021-08  2021  2021-08-10         True  \n",
       "1  2021-08  2021  2021-08-10         True  \n",
       "2  2021-08  2021  2021-08-21         True  \n",
       "3  2021-08  2021  2021-08-21         True  \n",
       "4  2021-08  2021  2021-08-19         True  "
      ]
     },
     "execution_count": 26,
     "metadata": {},
     "output_type": "execute_result"
    }
   ],
   "source": [
    "all_trips.head()"
   ]
  },
  {
   "cell_type": "code",
   "execution_count": 27,
   "id": "9d6e9ec9",
   "metadata": {},
   "outputs": [
    {
     "name": "stdout",
     "output_type": "stream",
     "text": [
      "<class 'pandas.core.frame.DataFrame'>\n",
      "Int64Index: 5901463 entries, 0 to 823487\n",
      "Data columns (total 18 columns):\n",
      " #   Column              Dtype         \n",
      "---  ------              -----         \n",
      " 0   ride_id             object        \n",
      " 1   rideable_type       object        \n",
      " 2   started_at          datetime64[ns]\n",
      " 3   ended_at            datetime64[ns]\n",
      " 4   start_station_name  object        \n",
      " 5   start_station_id    object        \n",
      " 6   end_station_name    object        \n",
      " 7   end_station_id      object        \n",
      " 8   start_lat           float64       \n",
      " 9   start_lng           float64       \n",
      " 10  end_lat             float64       \n",
      " 11  end_lng             float64       \n",
      " 12  member_casual       object        \n",
      " 13  date                datetime64[ns]\n",
      " 14  month               period[M]     \n",
      " 15  year                period[A-DEC] \n",
      " 16  day_of_week         period[D]     \n",
      " 17  ride_length         bool          \n",
      "dtypes: bool(1), datetime64[ns](3), float64(4), object(7), period[A-DEC](1), period[D](1), period[M](1)\n",
      "memory usage: 848.3+ MB\n"
     ]
    }
   ],
   "source": [
    "all_trips.info()"
   ]
  },
  {
   "cell_type": "markdown",
   "id": "a760c8ad",
   "metadata": {},
   "source": [
    "### Dropping columns with lots of null values"
   ]
  },
  {
   "cell_type": "code",
   "execution_count": 28,
   "id": "96599dac",
   "metadata": {},
   "outputs": [
    {
     "data": {
      "text/plain": [
       "860786"
      ]
     },
     "execution_count": 28,
     "metadata": {},
     "output_type": "execute_result"
    }
   ],
   "source": [
    "all_trips['start_station_name'].isnull().sum().sum()"
   ]
  },
  {
   "cell_type": "code",
   "execution_count": 29,
   "id": "3ddc2af1",
   "metadata": {},
   "outputs": [
    {
     "data": {
      "text/plain": [
       "860784"
      ]
     },
     "execution_count": 29,
     "metadata": {},
     "output_type": "execute_result"
    }
   ],
   "source": [
    "all_trips['start_station_id'].isnull().sum().sum()"
   ]
  },
  {
   "cell_type": "code",
   "execution_count": 30,
   "id": "5e0c38d3",
   "metadata": {},
   "outputs": [
    {
     "data": {
      "text/plain": [
       "919896"
      ]
     },
     "execution_count": 30,
     "metadata": {},
     "output_type": "execute_result"
    }
   ],
   "source": [
    "all_trips['end_station_name'].isnull().sum().sum()"
   ]
  },
  {
   "cell_type": "code",
   "execution_count": 31,
   "id": "f09ffcb6",
   "metadata": {},
   "outputs": [
    {
     "data": {
      "text/plain": [
       "919896"
      ]
     },
     "execution_count": 31,
     "metadata": {},
     "output_type": "execute_result"
    }
   ],
   "source": [
    "all_trips['end_station_id'].isnull().sum().sum()"
   ]
  },
  {
   "cell_type": "code",
   "execution_count": 32,
   "id": "ebf1757e",
   "metadata": {},
   "outputs": [],
   "source": [
    "all_trips_v2 = all_trips.drop(['start_station_name', 'start_station_id', 'end_station_name', 'end_station_id'], axis=1)"
   ]
  },
  {
   "cell_type": "markdown",
   "id": "67f7d78d",
   "metadata": {},
   "source": [
    "## STEP 4: CONDUCT DESCRIPTIVE ANALYSIS"
   ]
  },
  {
   "cell_type": "code",
   "execution_count": 33,
   "id": "138e02f1",
   "metadata": {},
   "outputs": [
    {
     "data": {
      "text/html": [
       "<div>\n",
       "<style scoped>\n",
       "    .dataframe tbody tr th:only-of-type {\n",
       "        vertical-align: middle;\n",
       "    }\n",
       "\n",
       "    .dataframe tbody tr th {\n",
       "        vertical-align: top;\n",
       "    }\n",
       "\n",
       "    .dataframe thead th {\n",
       "        text-align: right;\n",
       "    }\n",
       "</style>\n",
       "<table border=\"1\" class=\"dataframe\">\n",
       "  <thead>\n",
       "    <tr style=\"text-align: right;\">\n",
       "      <th></th>\n",
       "      <th>start_lat</th>\n",
       "      <th>start_lng</th>\n",
       "      <th>end_lat</th>\n",
       "      <th>end_lng</th>\n",
       "    </tr>\n",
       "  </thead>\n",
       "  <tbody>\n",
       "    <tr>\n",
       "      <th>count</th>\n",
       "      <td>5.901463e+06</td>\n",
       "      <td>5.901463e+06</td>\n",
       "      <td>5.895873e+06</td>\n",
       "      <td>5.895873e+06</td>\n",
       "    </tr>\n",
       "    <tr>\n",
       "      <th>mean</th>\n",
       "      <td>4.190077e+01</td>\n",
       "      <td>-8.764742e+01</td>\n",
       "      <td>4.190102e+01</td>\n",
       "      <td>-8.764761e+01</td>\n",
       "    </tr>\n",
       "    <tr>\n",
       "      <th>std</th>\n",
       "      <td>4.725668e-02</td>\n",
       "      <td>3.093877e-02</td>\n",
       "      <td>4.734863e-02</td>\n",
       "      <td>3.056536e-02</td>\n",
       "    </tr>\n",
       "    <tr>\n",
       "      <th>min</th>\n",
       "      <td>4.164000e+01</td>\n",
       "      <td>-8.784000e+01</td>\n",
       "      <td>4.139000e+01</td>\n",
       "      <td>-8.897000e+01</td>\n",
       "    </tr>\n",
       "    <tr>\n",
       "      <th>25%</th>\n",
       "      <td>4.188103e+01</td>\n",
       "      <td>-8.766154e+01</td>\n",
       "      <td>4.188103e+01</td>\n",
       "      <td>-8.766241e+01</td>\n",
       "    </tr>\n",
       "    <tr>\n",
       "      <th>50%</th>\n",
       "      <td>4.189964e+01</td>\n",
       "      <td>-8.764335e+01</td>\n",
       "      <td>4.190000e+01</td>\n",
       "      <td>-8.764375e+01</td>\n",
       "    </tr>\n",
       "    <tr>\n",
       "      <th>75%</th>\n",
       "      <td>4.192957e+01</td>\n",
       "      <td>-8.762872e+01</td>\n",
       "      <td>4.192968e+01</td>\n",
       "      <td>-8.762911e+01</td>\n",
       "    </tr>\n",
       "    <tr>\n",
       "      <th>max</th>\n",
       "      <td>4.563503e+01</td>\n",
       "      <td>-7.379648e+01</td>\n",
       "      <td>4.237000e+01</td>\n",
       "      <td>-8.750000e+01</td>\n",
       "    </tr>\n",
       "  </tbody>\n",
       "</table>\n",
       "</div>"
      ],
      "text/plain": [
       "          start_lat     start_lng       end_lat       end_lng\n",
       "count  5.901463e+06  5.901463e+06  5.895873e+06  5.895873e+06\n",
       "mean   4.190077e+01 -8.764742e+01  4.190102e+01 -8.764761e+01\n",
       "std    4.725668e-02  3.093877e-02  4.734863e-02  3.056536e-02\n",
       "min    4.164000e+01 -8.784000e+01  4.139000e+01 -8.897000e+01\n",
       "25%    4.188103e+01 -8.766154e+01  4.188103e+01 -8.766241e+01\n",
       "50%    4.189964e+01 -8.764335e+01  4.190000e+01 -8.764375e+01\n",
       "75%    4.192957e+01 -8.762872e+01  4.192968e+01 -8.762911e+01\n",
       "max    4.563503e+01 -7.379648e+01  4.237000e+01 -8.750000e+01"
      ]
     },
     "execution_count": 33,
     "metadata": {},
     "output_type": "execute_result"
    }
   ],
   "source": [
    "# Summary statistics of the data\n",
    "all_trips_v2.describe()"
   ]
  },
  {
   "cell_type": "code",
   "execution_count": 34,
   "id": "4e98a90c",
   "metadata": {},
   "outputs": [
    {
     "data": {
      "text/plain": [
       "member_casual\n",
       "casual    2022-07-31\n",
       "member    2022-07-31\n",
       "Name: day_of_week, dtype: period[D]"
      ]
     },
     "execution_count": 34,
     "metadata": {},
     "output_type": "execute_result"
    }
   ],
   "source": [
    "all_trips_v2.groupby(\"member_casual\").day_of_week.max()"
   ]
  },
  {
   "cell_type": "code",
   "execution_count": 35,
   "id": "61f79e81",
   "metadata": {},
   "outputs": [
    {
     "data": {
      "text/plain": [
       "rideable_type\n",
       "classic_bike     3055641\n",
       "docked_bike       226728\n",
       "electric_bike    2619094\n",
       "Name: ride_length, dtype: int64"
      ]
     },
     "execution_count": 35,
     "metadata": {},
     "output_type": "execute_result"
    }
   ],
   "source": [
    "all_trips_v2.groupby(\"rideable_type\").ride_length.count()"
   ]
  },
  {
   "cell_type": "code",
   "execution_count": 36,
   "id": "6ef5783b",
   "metadata": {},
   "outputs": [
    {
     "data": {
      "text/plain": [
       "member_casual\n",
       "casual    2522226\n",
       "member    3379237\n",
       "Name: ride_length, dtype: int64"
      ]
     },
     "execution_count": 36,
     "metadata": {},
     "output_type": "execute_result"
    }
   ],
   "source": [
    "all_trips_v2.groupby(\"member_casual\").ride_length.count()"
   ]
  },
  {
   "cell_type": "code",
   "execution_count": 37,
   "id": "16a2f850",
   "metadata": {},
   "outputs": [
    {
     "data": {
      "text/plain": [
       "member_casual\n",
       "casual    2522160\n",
       "member    3379154\n",
       "Name: ride_length, dtype: int64"
      ]
     },
     "execution_count": 37,
     "metadata": {},
     "output_type": "execute_result"
    }
   ],
   "source": [
    "all_trips_v2.groupby(\"member_casual\").ride_length.sum()"
   ]
  },
  {
   "cell_type": "code",
   "execution_count": 38,
   "id": "0aa43567",
   "metadata": {},
   "outputs": [
    {
     "data": {
      "text/html": [
       "<div>\n",
       "<style scoped>\n",
       "    .dataframe tbody tr th:only-of-type {\n",
       "        vertical-align: middle;\n",
       "    }\n",
       "\n",
       "    .dataframe tbody tr th {\n",
       "        vertical-align: top;\n",
       "    }\n",
       "\n",
       "    .dataframe thead th {\n",
       "        text-align: right;\n",
       "    }\n",
       "</style>\n",
       "<table border=\"1\" class=\"dataframe\">\n",
       "  <thead>\n",
       "    <tr style=\"text-align: right;\">\n",
       "      <th></th>\n",
       "      <th>ride_length</th>\n",
       "    </tr>\n",
       "    <tr>\n",
       "      <th>rideable_type</th>\n",
       "      <th></th>\n",
       "    </tr>\n",
       "  </thead>\n",
       "  <tbody>\n",
       "    <tr>\n",
       "      <th>classic_bike</th>\n",
       "      <td>3055566</td>\n",
       "    </tr>\n",
       "    <tr>\n",
       "      <th>docked_bike</th>\n",
       "      <td>226723</td>\n",
       "    </tr>\n",
       "    <tr>\n",
       "      <th>electric_bike</th>\n",
       "      <td>2619025</td>\n",
       "    </tr>\n",
       "  </tbody>\n",
       "</table>\n",
       "</div>"
      ],
      "text/plain": [
       "               ride_length\n",
       "rideable_type             \n",
       "classic_bike       3055566\n",
       "docked_bike         226723\n",
       "electric_bike      2619025"
      ]
     },
     "execution_count": 38,
     "metadata": {},
     "output_type": "execute_result"
    }
   ],
   "source": [
    "pd.pivot_table(all_trips_v2, index='rideable_type', values='ride_length', aggfunc=sum)"
   ]
  },
  {
   "cell_type": "code",
   "execution_count": 39,
   "id": "63283188",
   "metadata": {},
   "outputs": [
    {
     "data": {
      "text/plain": [
       "member_casual  rideable_type\n",
       "casual         classic_bike     1132892\n",
       "               docked_bike       226728\n",
       "               electric_bike    1162606\n",
       "member         classic_bike     1922749\n",
       "               electric_bike    1456488\n",
       "Name: ride_length, dtype: int64"
      ]
     },
     "execution_count": 39,
     "metadata": {},
     "output_type": "execute_result"
    }
   ],
   "source": [
    "all_trips_v2.groupby([\"member_casual\", \"rideable_type\"]).ride_length.count()"
   ]
  },
  {
   "cell_type": "code",
   "execution_count": 40,
   "id": "434610a7",
   "metadata": {},
   "outputs": [
    {
     "data": {
      "text/html": [
       "<div>\n",
       "<style scoped>\n",
       "    .dataframe tbody tr th:only-of-type {\n",
       "        vertical-align: middle;\n",
       "    }\n",
       "\n",
       "    .dataframe tbody tr th {\n",
       "        vertical-align: top;\n",
       "    }\n",
       "\n",
       "    .dataframe thead th {\n",
       "        text-align: right;\n",
       "    }\n",
       "</style>\n",
       "<table border=\"1\" class=\"dataframe\">\n",
       "  <thead>\n",
       "    <tr style=\"text-align: right;\">\n",
       "      <th></th>\n",
       "      <th>ride_id</th>\n",
       "      <th>rideable_type</th>\n",
       "      <th>started_at</th>\n",
       "      <th>ended_at</th>\n",
       "      <th>start_lat</th>\n",
       "      <th>start_lng</th>\n",
       "      <th>end_lat</th>\n",
       "      <th>end_lng</th>\n",
       "      <th>member_casual</th>\n",
       "      <th>date</th>\n",
       "      <th>month</th>\n",
       "      <th>year</th>\n",
       "      <th>day_of_week</th>\n",
       "      <th>ride_length</th>\n",
       "    </tr>\n",
       "  </thead>\n",
       "  <tbody>\n",
       "    <tr>\n",
       "      <th>0</th>\n",
       "      <td>99103BB87CC6C1BB</td>\n",
       "      <td>electric_bike</td>\n",
       "      <td>2021-08-10 17:15:49</td>\n",
       "      <td>2021-08-10 17:22:44</td>\n",
       "      <td>41.77</td>\n",
       "      <td>-87.68</td>\n",
       "      <td>41.77</td>\n",
       "      <td>-87.68</td>\n",
       "      <td>member</td>\n",
       "      <td>2021-08-10 17:15:49</td>\n",
       "      <td>2021-08</td>\n",
       "      <td>2021</td>\n",
       "      <td>2021-08-10</td>\n",
       "      <td>True</td>\n",
       "    </tr>\n",
       "    <tr>\n",
       "      <th>1</th>\n",
       "      <td>EAFCCCFB0A3FC5A1</td>\n",
       "      <td>electric_bike</td>\n",
       "      <td>2021-08-10 17:23:14</td>\n",
       "      <td>2021-08-10 17:39:24</td>\n",
       "      <td>41.77</td>\n",
       "      <td>-87.68</td>\n",
       "      <td>41.77</td>\n",
       "      <td>-87.63</td>\n",
       "      <td>member</td>\n",
       "      <td>2021-08-10 17:23:14</td>\n",
       "      <td>2021-08</td>\n",
       "      <td>2021</td>\n",
       "      <td>2021-08-10</td>\n",
       "      <td>True</td>\n",
       "    </tr>\n",
       "    <tr>\n",
       "      <th>2</th>\n",
       "      <td>9EF4F46C57AD234D</td>\n",
       "      <td>electric_bike</td>\n",
       "      <td>2021-08-21 02:34:23</td>\n",
       "      <td>2021-08-21 02:50:36</td>\n",
       "      <td>41.95</td>\n",
       "      <td>-87.65</td>\n",
       "      <td>41.97</td>\n",
       "      <td>-87.66</td>\n",
       "      <td>member</td>\n",
       "      <td>2021-08-21 02:34:23</td>\n",
       "      <td>2021-08</td>\n",
       "      <td>2021</td>\n",
       "      <td>2021-08-21</td>\n",
       "      <td>True</td>\n",
       "    </tr>\n",
       "    <tr>\n",
       "      <th>3</th>\n",
       "      <td>5834D3208BFAF1DA</td>\n",
       "      <td>electric_bike</td>\n",
       "      <td>2021-08-21 06:52:55</td>\n",
       "      <td>2021-08-21 07:08:13</td>\n",
       "      <td>41.97</td>\n",
       "      <td>-87.67</td>\n",
       "      <td>41.95</td>\n",
       "      <td>-87.65</td>\n",
       "      <td>member</td>\n",
       "      <td>2021-08-21 06:52:55</td>\n",
       "      <td>2021-08</td>\n",
       "      <td>2021</td>\n",
       "      <td>2021-08-21</td>\n",
       "      <td>True</td>\n",
       "    </tr>\n",
       "    <tr>\n",
       "      <th>4</th>\n",
       "      <td>CD825CB87ED1D096</td>\n",
       "      <td>electric_bike</td>\n",
       "      <td>2021-08-19 11:55:29</td>\n",
       "      <td>2021-08-19 12:04:11</td>\n",
       "      <td>41.79</td>\n",
       "      <td>-87.60</td>\n",
       "      <td>41.77</td>\n",
       "      <td>-87.62</td>\n",
       "      <td>member</td>\n",
       "      <td>2021-08-19 11:55:29</td>\n",
       "      <td>2021-08</td>\n",
       "      <td>2021</td>\n",
       "      <td>2021-08-19</td>\n",
       "      <td>True</td>\n",
       "    </tr>\n",
       "  </tbody>\n",
       "</table>\n",
       "</div>"
      ],
      "text/plain": [
       "            ride_id  rideable_type          started_at            ended_at  \\\n",
       "0  99103BB87CC6C1BB  electric_bike 2021-08-10 17:15:49 2021-08-10 17:22:44   \n",
       "1  EAFCCCFB0A3FC5A1  electric_bike 2021-08-10 17:23:14 2021-08-10 17:39:24   \n",
       "2  9EF4F46C57AD234D  electric_bike 2021-08-21 02:34:23 2021-08-21 02:50:36   \n",
       "3  5834D3208BFAF1DA  electric_bike 2021-08-21 06:52:55 2021-08-21 07:08:13   \n",
       "4  CD825CB87ED1D096  electric_bike 2021-08-19 11:55:29 2021-08-19 12:04:11   \n",
       "\n",
       "   start_lat  start_lng  end_lat  end_lng member_casual                date  \\\n",
       "0      41.77     -87.68    41.77   -87.68        member 2021-08-10 17:15:49   \n",
       "1      41.77     -87.68    41.77   -87.63        member 2021-08-10 17:23:14   \n",
       "2      41.95     -87.65    41.97   -87.66        member 2021-08-21 02:34:23   \n",
       "3      41.97     -87.67    41.95   -87.65        member 2021-08-21 06:52:55   \n",
       "4      41.79     -87.60    41.77   -87.62        member 2021-08-19 11:55:29   \n",
       "\n",
       "     month  year day_of_week  ride_length  \n",
       "0  2021-08  2021  2021-08-10         True  \n",
       "1  2021-08  2021  2021-08-10         True  \n",
       "2  2021-08  2021  2021-08-21         True  \n",
       "3  2021-08  2021  2021-08-21         True  \n",
       "4  2021-08  2021  2021-08-19         True  "
      ]
     },
     "execution_count": 40,
     "metadata": {},
     "output_type": "execute_result"
    }
   ],
   "source": [
    "all_trips_v2.head()"
   ]
  },
  {
   "cell_type": "markdown",
   "id": "96d552a5",
   "metadata": {},
   "source": [
    "## STEP 5: EXPORT SUMMARY FILE FOR FURTHER ANALYSIS"
   ]
  },
  {
   "cell_type": "code",
   "execution_count": 41,
   "id": "217337d5",
   "metadata": {},
   "outputs": [],
   "source": [
    "all_trips_v2.to_csv(\"C:/Users/Dannie/Desktop/Bike_share_clean.csv\")"
   ]
  }
 ],
 "metadata": {
  "kernelspec": {
   "display_name": "Python 3",
   "language": "python",
   "name": "python3"
  },
  "language_info": {
   "codemirror_mode": {
    "name": "ipython",
    "version": 3
   },
   "file_extension": ".py",
   "mimetype": "text/x-python",
   "name": "python",
   "nbconvert_exporter": "python",
   "pygments_lexer": "ipython3",
   "version": "3.8.8"
  }
 },
 "nbformat": 4,
 "nbformat_minor": 5
}
